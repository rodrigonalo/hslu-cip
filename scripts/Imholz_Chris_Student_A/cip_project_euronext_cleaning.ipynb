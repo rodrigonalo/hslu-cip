{
 "cells": [
  {
   "cell_type": "code",
   "execution_count": 102,
   "id": "initial_id",
   "metadata": {
    "collapsed": true,
    "ExecuteTime": {
     "end_time": "2024-04-19T09:17:29.768057100Z",
     "start_time": "2024-04-19T09:17:29.747625Z"
    }
   },
   "outputs": [
    {
     "name": "stdout",
     "output_type": "stream",
     "text": [
      "<class 'pandas.core.frame.DataFrame'>\n",
      "RangeIndex: 192 entries, 0 to 191\n",
      "Data columns (total 29 columns):\n",
      " #   Column                                                               Non-Null Count  Dtype  \n",
      "---  ------                                                               --------------  -----  \n",
      " 0   Name                                                                 187 non-null    object \n",
      " 1   Currency                                                             181 non-null    object \n",
      " 2   Market Cap                                                           181 non-null    object \n",
      " 3   CDP                                                                  19 non-null     object \n",
      " 4   FTSE4Good                                                            4 non-null      object \n",
      " 5   MSCI ESG Ratings                                                     4 non-null      object \n",
      " 6   Moody's ESG Solution                                                 2 non-null      object \n",
      " 7   Sustainalytics                                                       27 non-null     object \n",
      " 8   Carbon footprint (total GHG emissions / enterprise value)            119 non-null    object \n",
      " 9   Share of women in total workforce                                    157 non-null    object \n",
      " 10  Rate of resignation                                                  57 non-null     object \n",
      " 11  Type                                                                 187 non-null    object \n",
      " 12  Sub type                                                             187 non-null    object \n",
      " 13  Market                                                               187 non-null    object \n",
      " 14  ISIN Code                                                            187 non-null    object \n",
      " 15  Industry                                                             187 non-null    object \n",
      " 16  SuperSector                                                          187 non-null    object \n",
      " 17  Sector                                                               187 non-null    object \n",
      " 18  Subsector                                                            187 non-null    object \n",
      " 19  Share of women in management bodies                                  135 non-null    object \n",
      " 20  Gender pay gap                                                       59 non-null     object \n",
      " 21  Professional equality index                                          28 non-null     object \n",
      " 22  Rate of employees with disabilities                                  60 non-null     object \n",
      " 23  Average training hours per employee                                  121 non-null    object \n",
      " 24  Board gender diversity (female board members / total board members)  168 non-null    object \n",
      " 25  Number of female board members                                       168 non-null    object \n",
      " 26  Number of board members                                              168 non-null    object \n",
      " 27  Total energy consumption                                             140 non-null    object \n",
      " 28   Ratio of non-recycled waste                                         0 non-null      float64\n",
      "dtypes: float64(1), object(28)\n",
      "memory usage: 43.6+ KB\n"
     ]
    }
   ],
   "source": [
    "import pandas as pd\n",
    "import numpy as np\n",
    "import logging\n",
    "\n",
    "# Load the data file\n",
    "file_path = 'C:/Users/chris/switchdrive/SyncVM/CIP/hslu-cip/data/clean_data/scraped_shares_extendedESG_data2.csv'\n",
    "data = pd.read_csv(file_path, delimiter=';')\n",
    "\n",
    "# Display the first few rows of the dataframe and the general information\n",
    "data.head()\n",
    "data.info()"
   ]
  },
  {
   "cell_type": "code",
   "outputs": [
    {
     "data": {
      "text/plain": "                 Name Currency Market Cap  CDP FTSE4Good MSCI ESG Ratings  \\\n0               ACCOR      EUR     9.656B  NaN       NaN              NaN   \n1         AIR LIQUIDE      EUR    98.258B  NaN       NaN              NaN   \n2           AIRBUS SE      EUR   127.257B  NaN       NaN              NaN   \n3    ARCELORMITTAL SA      EUR    20.331B  NaN       NaN              NaN   \n4                 AXA      EUR    77.141B  NaN       NaN              NaN   \n..                ...      ...        ...  ...       ...              ...   \n187    TELECOM ITALIA      EUR     3.357B  NaN       NaN              NaN   \n188               NaN      NaN        NaN  NaN       NaN              NaN   \n189             TERNA      EUR    14.605B  NaN       NaN              NaN   \n190               NaN      NaN        NaN  NaN       NaN              NaN   \n191            UNIPOL      EUR     5.833B  NaN       NaN              NaN   \n\n    Moody's ESG Solution Sustainalytics  \\\n0                    NaN            NaN   \n1                    NaN            NaN   \n2                    NaN            NaN   \n3                    NaN            NaN   \n4                    NaN            NaN   \n..                   ...            ...   \n187                  NaN            NaN   \n188                  NaN            NaN   \n189                  NaN            NaN   \n190                  NaN            NaN   \n191                  NaN            NaN   \n\n    Carbon footprint (total GHG emissions / enterprise value)  \\\n0                           535.17 Ton / Million (EUR)          \n1                                                  NaN          \n2                                                  NaN          \n3                        3,373.201 Ton / Million (USD)          \n4                             2.54 Ton / Million (EUR)          \n..                                                 ...          \n187                         124.89 Ton / Million (EUR)          \n188                                                NaN          \n189                       132.1212 Ton / Million (EUR)          \n190                                                NaN          \n191                       476.3635 Ton / Million (EUR)          \n\n    Share of women in total workforce  ...  \\\n0                                   %  ...   \n1                                 28%  ...   \n2                                 20%  ...   \n3                                 NaN  ...   \n4                                 NaN  ...   \n..                                ...  ...   \n187                               38%  ...   \n188                               NaN  ...   \n189                            16.08%  ...   \n190                               NaN  ...   \n191                            54.30%  ...   \n\n    Share of women in management bodies Gender pay gap  \\\n0                                     %              %   \n1                                   30%            NaN   \n2                                   NaN            NaN   \n3                                15.70%            NaN   \n4                                35.30%            NaN   \n..                                  ...            ...   \n187                                 28%            NaN   \n188                                 NaN            NaN   \n189                              23.70%            19%   \n190                                 NaN            NaN   \n191                              16.23%             9%   \n\n    Professional equality index Rate of employees with disabilities  \\\n0                          unit                                   %   \n1                       87 unit                               4.50%   \n2                           NaN                                 NaN   \n3                           NaN                                 NaN   \n4                           NaN                               0.70%   \n..                          ...                                 ...   \n187                         NaN                                  3%   \n188                         NaN                                 NaN   \n189                         NaN                                 NaN   \n190                         NaN                                 NaN   \n191                         NaN                                   %   \n\n    Average training hours per employee  \\\n0                                  unit   \n1                               20 unit   \n2                               15 unit   \n3                                   NaN   \n4                                   NaN   \n..                                  ...   \n187                          53.75 unit   \n188                                 NaN   \n189                             36 unit   \n190                                 NaN   \n191                          15.72 unit   \n\n    Board gender diversity (female board members / total board members)  \\\n0                                               61.50%                    \n1                                               35.70%                    \n2                                               33.33%                    \n3                                                  30%                    \n4                                               56.30%                    \n..                                                 ...                    \n187                                                40%                    \n188                                                NaN                    \n189                                             46.15%                    \n190                                                NaN                    \n191                                                40%                    \n\n    Number of female board members Number of board members  \\\n0                           8 unit                 13 unit   \n1                           5 unit                 14 unit   \n2                           4 unit                 12 unit   \n3                           3 unit                 10 unit   \n4                           9 unit                 16 unit   \n..                             ...                     ...   \n187                         6 unit                 15 unit   \n188                            NaN                     NaN   \n189                         6 unit                 13 unit   \n190                            NaN                     NaN   \n191                         6 unit                 15 unit   \n\n    Total energy consumption  Ratio of non-recycled waste  \n0                 13,712 GWh                          NaN  \n1                        GWh                          NaN  \n2                  3,717 GWh                          NaN  \n3    1,392,000,000 gigajoule                          NaN  \n4                223,638 MWh                          NaN  \n..                       ...                          ...  \n187                2,671 GWh                          NaN  \n188                      NaN                          NaN  \n189      928,277.4 gigajoule                          NaN  \n190                      NaN                          NaN  \n191        530,790 gigajoule                          NaN  \n\n[192 rows x 29 columns]",
      "text/html": "<div>\n<style scoped>\n    .dataframe tbody tr th:only-of-type {\n        vertical-align: middle;\n    }\n\n    .dataframe tbody tr th {\n        vertical-align: top;\n    }\n\n    .dataframe thead th {\n        text-align: right;\n    }\n</style>\n<table border=\"1\" class=\"dataframe\">\n  <thead>\n    <tr style=\"text-align: right;\">\n      <th></th>\n      <th>Name</th>\n      <th>Currency</th>\n      <th>Market Cap</th>\n      <th>CDP</th>\n      <th>FTSE4Good</th>\n      <th>MSCI ESG Ratings</th>\n      <th>Moody's ESG Solution</th>\n      <th>Sustainalytics</th>\n      <th>Carbon footprint (total GHG emissions / enterprise value)</th>\n      <th>Share of women in total workforce</th>\n      <th>...</th>\n      <th>Share of women in management bodies</th>\n      <th>Gender pay gap</th>\n      <th>Professional equality index</th>\n      <th>Rate of employees with disabilities</th>\n      <th>Average training hours per employee</th>\n      <th>Board gender diversity (female board members / total board members)</th>\n      <th>Number of female board members</th>\n      <th>Number of board members</th>\n      <th>Total energy consumption</th>\n      <th>Ratio of non-recycled waste</th>\n    </tr>\n  </thead>\n  <tbody>\n    <tr>\n      <th>0</th>\n      <td>ACCOR</td>\n      <td>EUR</td>\n      <td>9.656B</td>\n      <td>NaN</td>\n      <td>NaN</td>\n      <td>NaN</td>\n      <td>NaN</td>\n      <td>NaN</td>\n      <td>535.17 Ton / Million (EUR)</td>\n      <td>%</td>\n      <td>...</td>\n      <td>%</td>\n      <td>%</td>\n      <td>unit</td>\n      <td>%</td>\n      <td>unit</td>\n      <td>61.50%</td>\n      <td>8 unit</td>\n      <td>13 unit</td>\n      <td>13,712 GWh</td>\n      <td>NaN</td>\n    </tr>\n    <tr>\n      <th>1</th>\n      <td>AIR LIQUIDE</td>\n      <td>EUR</td>\n      <td>98.258B</td>\n      <td>NaN</td>\n      <td>NaN</td>\n      <td>NaN</td>\n      <td>NaN</td>\n      <td>NaN</td>\n      <td>NaN</td>\n      <td>28%</td>\n      <td>...</td>\n      <td>30%</td>\n      <td>NaN</td>\n      <td>87 unit</td>\n      <td>4.50%</td>\n      <td>20 unit</td>\n      <td>35.70%</td>\n      <td>5 unit</td>\n      <td>14 unit</td>\n      <td>GWh</td>\n      <td>NaN</td>\n    </tr>\n    <tr>\n      <th>2</th>\n      <td>AIRBUS SE</td>\n      <td>EUR</td>\n      <td>127.257B</td>\n      <td>NaN</td>\n      <td>NaN</td>\n      <td>NaN</td>\n      <td>NaN</td>\n      <td>NaN</td>\n      <td>NaN</td>\n      <td>20%</td>\n      <td>...</td>\n      <td>NaN</td>\n      <td>NaN</td>\n      <td>NaN</td>\n      <td>NaN</td>\n      <td>15 unit</td>\n      <td>33.33%</td>\n      <td>4 unit</td>\n      <td>12 unit</td>\n      <td>3,717 GWh</td>\n      <td>NaN</td>\n    </tr>\n    <tr>\n      <th>3</th>\n      <td>ARCELORMITTAL SA</td>\n      <td>EUR</td>\n      <td>20.331B</td>\n      <td>NaN</td>\n      <td>NaN</td>\n      <td>NaN</td>\n      <td>NaN</td>\n      <td>NaN</td>\n      <td>3,373.201 Ton / Million (USD)</td>\n      <td>NaN</td>\n      <td>...</td>\n      <td>15.70%</td>\n      <td>NaN</td>\n      <td>NaN</td>\n      <td>NaN</td>\n      <td>NaN</td>\n      <td>30%</td>\n      <td>3 unit</td>\n      <td>10 unit</td>\n      <td>1,392,000,000 gigajoule</td>\n      <td>NaN</td>\n    </tr>\n    <tr>\n      <th>4</th>\n      <td>AXA</td>\n      <td>EUR</td>\n      <td>77.141B</td>\n      <td>NaN</td>\n      <td>NaN</td>\n      <td>NaN</td>\n      <td>NaN</td>\n      <td>NaN</td>\n      <td>2.54 Ton / Million (EUR)</td>\n      <td>NaN</td>\n      <td>...</td>\n      <td>35.30%</td>\n      <td>NaN</td>\n      <td>NaN</td>\n      <td>0.70%</td>\n      <td>NaN</td>\n      <td>56.30%</td>\n      <td>9 unit</td>\n      <td>16 unit</td>\n      <td>223,638 MWh</td>\n      <td>NaN</td>\n    </tr>\n    <tr>\n      <th>...</th>\n      <td>...</td>\n      <td>...</td>\n      <td>...</td>\n      <td>...</td>\n      <td>...</td>\n      <td>...</td>\n      <td>...</td>\n      <td>...</td>\n      <td>...</td>\n      <td>...</td>\n      <td>...</td>\n      <td>...</td>\n      <td>...</td>\n      <td>...</td>\n      <td>...</td>\n      <td>...</td>\n      <td>...</td>\n      <td>...</td>\n      <td>...</td>\n      <td>...</td>\n      <td>...</td>\n    </tr>\n    <tr>\n      <th>187</th>\n      <td>TELECOM ITALIA</td>\n      <td>EUR</td>\n      <td>3.357B</td>\n      <td>NaN</td>\n      <td>NaN</td>\n      <td>NaN</td>\n      <td>NaN</td>\n      <td>NaN</td>\n      <td>124.89 Ton / Million (EUR)</td>\n      <td>38%</td>\n      <td>...</td>\n      <td>28%</td>\n      <td>NaN</td>\n      <td>NaN</td>\n      <td>3%</td>\n      <td>53.75 unit</td>\n      <td>40%</td>\n      <td>6 unit</td>\n      <td>15 unit</td>\n      <td>2,671 GWh</td>\n      <td>NaN</td>\n    </tr>\n    <tr>\n      <th>188</th>\n      <td>NaN</td>\n      <td>NaN</td>\n      <td>NaN</td>\n      <td>NaN</td>\n      <td>NaN</td>\n      <td>NaN</td>\n      <td>NaN</td>\n      <td>NaN</td>\n      <td>NaN</td>\n      <td>NaN</td>\n      <td>...</td>\n      <td>NaN</td>\n      <td>NaN</td>\n      <td>NaN</td>\n      <td>NaN</td>\n      <td>NaN</td>\n      <td>NaN</td>\n      <td>NaN</td>\n      <td>NaN</td>\n      <td>NaN</td>\n      <td>NaN</td>\n    </tr>\n    <tr>\n      <th>189</th>\n      <td>TERNA</td>\n      <td>EUR</td>\n      <td>14.605B</td>\n      <td>NaN</td>\n      <td>NaN</td>\n      <td>NaN</td>\n      <td>NaN</td>\n      <td>NaN</td>\n      <td>132.1212 Ton / Million (EUR)</td>\n      <td>16.08%</td>\n      <td>...</td>\n      <td>23.70%</td>\n      <td>19%</td>\n      <td>NaN</td>\n      <td>NaN</td>\n      <td>36 unit</td>\n      <td>46.15%</td>\n      <td>6 unit</td>\n      <td>13 unit</td>\n      <td>928,277.4 gigajoule</td>\n      <td>NaN</td>\n    </tr>\n    <tr>\n      <th>190</th>\n      <td>NaN</td>\n      <td>NaN</td>\n      <td>NaN</td>\n      <td>NaN</td>\n      <td>NaN</td>\n      <td>NaN</td>\n      <td>NaN</td>\n      <td>NaN</td>\n      <td>NaN</td>\n      <td>NaN</td>\n      <td>...</td>\n      <td>NaN</td>\n      <td>NaN</td>\n      <td>NaN</td>\n      <td>NaN</td>\n      <td>NaN</td>\n      <td>NaN</td>\n      <td>NaN</td>\n      <td>NaN</td>\n      <td>NaN</td>\n      <td>NaN</td>\n    </tr>\n    <tr>\n      <th>191</th>\n      <td>UNIPOL</td>\n      <td>EUR</td>\n      <td>5.833B</td>\n      <td>NaN</td>\n      <td>NaN</td>\n      <td>NaN</td>\n      <td>NaN</td>\n      <td>NaN</td>\n      <td>476.3635 Ton / Million (EUR)</td>\n      <td>54.30%</td>\n      <td>...</td>\n      <td>16.23%</td>\n      <td>9%</td>\n      <td>NaN</td>\n      <td>%</td>\n      <td>15.72 unit</td>\n      <td>40%</td>\n      <td>6 unit</td>\n      <td>15 unit</td>\n      <td>530,790 gigajoule</td>\n      <td>NaN</td>\n    </tr>\n  </tbody>\n</table>\n<p>192 rows × 29 columns</p>\n</div>"
     },
     "execution_count": 103,
     "metadata": {},
     "output_type": "execute_result"
    }
   ],
   "source": [
    "data"
   ],
   "metadata": {
    "collapsed": false,
    "ExecuteTime": {
     "end_time": "2024-04-19T09:17:29.812093400Z",
     "start_time": "2024-04-19T09:17:29.761057Z"
    }
   },
   "id": "3e28377be0663fc6",
   "execution_count": 103
  },
  {
   "cell_type": "code",
   "outputs": [
    {
     "name": "stdout",
     "output_type": "stream",
     "text": [
      "<class 'pandas.core.frame.DataFrame'>\n",
      "RangeIndex: 192 entries, 0 to 191\n",
      "Data columns (total 28 columns):\n",
      " #   Column                                                               Non-Null Count  Dtype \n",
      "---  ------                                                               --------------  ----- \n",
      " 0   Name                                                                 187 non-null    object\n",
      " 1   Currency                                                             181 non-null    object\n",
      " 2   Market Cap                                                           181 non-null    object\n",
      " 3   CDP                                                                  19 non-null     object\n",
      " 4   FTSE4Good                                                            4 non-null      object\n",
      " 5   MSCI ESG Ratings                                                     4 non-null      object\n",
      " 6   Moody's ESG Solution                                                 2 non-null      object\n",
      " 7   Sustainalytics                                                       27 non-null     object\n",
      " 8   Carbon footprint (total GHG emissions / enterprise value)            119 non-null    object\n",
      " 9   Share of women in total workforce                                    157 non-null    object\n",
      " 10  Rate of resignation                                                  57 non-null     object\n",
      " 11  Type                                                                 187 non-null    object\n",
      " 12  Sub type                                                             187 non-null    object\n",
      " 13  Market                                                               187 non-null    object\n",
      " 14  ISIN Code                                                            187 non-null    object\n",
      " 15  Industry                                                             187 non-null    object\n",
      " 16  SuperSector                                                          187 non-null    object\n",
      " 17  Sector                                                               187 non-null    object\n",
      " 18  Subsector                                                            187 non-null    object\n",
      " 19  Share of women in management bodies                                  135 non-null    object\n",
      " 20  Gender pay gap                                                       59 non-null     object\n",
      " 21  Professional equality index                                          28 non-null     object\n",
      " 22  Rate of employees with disabilities                                  60 non-null     object\n",
      " 23  Average training hours per employee                                  121 non-null    object\n",
      " 24  Board gender diversity (female board members / total board members)  168 non-null    object\n",
      " 25  Number of female board members                                       168 non-null    object\n",
      " 26  Number of board members                                              168 non-null    object\n",
      " 27  Total energy consumption                                             140 non-null    object\n",
      "dtypes: object(28)\n",
      "memory usage: 42.1+ KB\n"
     ]
    }
   ],
   "source": [
    "# Check for columns that are completely empty and drop them\n",
    "data_not_empty_columns = data.dropna(how='all', axis=1)\n",
    "\n",
    "# Show the columns removed (if any)\n",
    "data_not_empty_columns.columns.difference(data.columns)\n",
    "data=data_not_empty_columns\n",
    "\n",
    "# Updated DataFrame info\n",
    "data.info()\n"
   ],
   "metadata": {
    "collapsed": false,
    "ExecuteTime": {
     "end_time": "2024-04-19T09:17:29.813094100Z",
     "start_time": "2024-04-19T09:17:29.776471300Z"
    }
   },
   "id": "bcda02f3606f84fb",
   "execution_count": 104
  },
  {
   "cell_type": "code",
   "outputs": [
    {
     "name": "stdout",
     "output_type": "stream",
     "text": [
      "Number of completely empty rows: 5\n"
     ]
    },
    {
     "data": {
      "text/plain": "                   Name Currency Market Cap  CDP FTSE4Good MSCI ESG Ratings  \\\n0                 ACCOR      EUR     9.656B  NaN       NaN              NaN   \n1           AIR LIQUIDE      EUR    98.258B  NaN       NaN              NaN   \n2             AIRBUS SE      EUR   127.257B  NaN       NaN              NaN   \n3      ARCELORMITTAL SA      EUR    20.331B  NaN       NaN              NaN   \n4                   AXA      EUR    77.141B  NaN       NaN              NaN   \n..                  ...      ...        ...  ...       ...              ...   \n185          STELLANTIS      EUR    77.072B  NaN       NaN              NaN   \n186  STMICROELECTRONICS      EUR    34.237B  NaN       NaN              NaN   \n187      TELECOM ITALIA      EUR     3.357B  NaN       NaN              NaN   \n189               TERNA      EUR    14.605B  NaN       NaN              NaN   \n191              UNIPOL      EUR     5.833B  NaN       NaN              NaN   \n\n    Moody's ESG Solution Sustainalytics  \\\n0                    NaN            NaN   \n1                    NaN            NaN   \n2                    NaN            NaN   \n3                    NaN            NaN   \n4                    NaN            NaN   \n..                   ...            ...   \n185                  NaN            NaN   \n186                  NaN            NaN   \n187                  NaN            NaN   \n189                  NaN            NaN   \n191                  NaN            NaN   \n\n    Carbon footprint (total GHG emissions / enterprise value)  \\\n0                           535.17 Ton / Million (EUR)          \n1                                                  NaN          \n2                                                  NaN          \n3                        3,373.201 Ton / Million (USD)          \n4                             2.54 Ton / Million (EUR)          \n..                                                 ...          \n185                     6,409.5742 Ton / Million (EUR)          \n186                        27.9849 Ton / Million (USD)          \n187                         124.89 Ton / Million (EUR)          \n189                       132.1212 Ton / Million (EUR)          \n191                       476.3635 Ton / Million (EUR)          \n\n    Share of women in total workforce  ...  \\\n0                                   %  ...   \n1                                 28%  ...   \n2                                 20%  ...   \n3                                 NaN  ...   \n4                                 NaN  ...   \n..                                ...  ...   \n185                                 %  ...   \n186                                 %  ...   \n187                               38%  ...   \n189                            16.08%  ...   \n191                            54.30%  ...   \n\n                                 Subsector  \\\n0              40501025, Hotels and Motels   \n1            55201020, Specialty Chemicals   \n2                      50201010, Aerospace   \n3                 55102010, Iron and Steel   \n4            30302010, Full Line Insurance   \n..                                     ...   \n185                  40101020, Automobiles   \n186               10102010, Semiconductors   \n187  15102015, Telecommunications Services   \n189     65101015, Conventional Electricity   \n191          30302010, Full Line Insurance   \n\n    Share of women in management bodies Gender pay gap  \\\n0                                     %              %   \n1                                   30%            NaN   \n2                                   NaN            NaN   \n3                                15.70%            NaN   \n4                                35.30%            NaN   \n..                                  ...            ...   \n185                                   %            NaN   \n186                                   %              %   \n187                                 28%            NaN   \n189                              23.70%            19%   \n191                              16.23%             9%   \n\n    Professional equality index Rate of employees with disabilities  \\\n0                          unit                                   %   \n1                       87 unit                               4.50%   \n2                           NaN                                 NaN   \n3                           NaN                                 NaN   \n4                           NaN                               0.70%   \n..                          ...                                 ...   \n185                         NaN                                 NaN   \n186                        unit                                   %   \n187                         NaN                                  3%   \n189                         NaN                                 NaN   \n191                         NaN                                   %   \n\n    Average training hours per employee  \\\n0                                  unit   \n1                               20 unit   \n2                               15 unit   \n3                                   NaN   \n4                                   NaN   \n..                                  ...   \n185                                unit   \n186                                unit   \n187                          53.75 unit   \n189                             36 unit   \n191                          15.72 unit   \n\n    Board gender diversity (female board members / total board members)  \\\n0                                               61.50%                    \n1                                               35.70%                    \n2                                               33.33%                    \n3                                                  30%                    \n4                                               56.30%                    \n..                                                 ...                    \n185                                             27.27%                    \n186                                             44.44%                    \n187                                                40%                    \n189                                             46.15%                    \n191                                                40%                    \n\n    Number of female board members Number of board members  \\\n0                           8 unit                 13 unit   \n1                           5 unit                 14 unit   \n2                           4 unit                 12 unit   \n3                           3 unit                 10 unit   \n4                           9 unit                 16 unit   \n..                             ...                     ...   \n185                         3 unit                 11 unit   \n186                         4 unit                  9 unit   \n187                         6 unit                 15 unit   \n189                         6 unit                 13 unit   \n191                         6 unit                 15 unit   \n\n    Total energy consumption  \n0                 13,712 GWh  \n1                        GWh  \n2                  3,717 GWh  \n3    1,392,000,000 gigajoule  \n4                223,638 MWh  \n..                       ...  \n185           15,494,891 MWh  \n186      10,363.96 terajoule  \n187                2,671 GWh  \n189      928,277.4 gigajoule  \n191        530,790 gigajoule  \n\n[187 rows x 28 columns]",
      "text/html": "<div>\n<style scoped>\n    .dataframe tbody tr th:only-of-type {\n        vertical-align: middle;\n    }\n\n    .dataframe tbody tr th {\n        vertical-align: top;\n    }\n\n    .dataframe thead th {\n        text-align: right;\n    }\n</style>\n<table border=\"1\" class=\"dataframe\">\n  <thead>\n    <tr style=\"text-align: right;\">\n      <th></th>\n      <th>Name</th>\n      <th>Currency</th>\n      <th>Market Cap</th>\n      <th>CDP</th>\n      <th>FTSE4Good</th>\n      <th>MSCI ESG Ratings</th>\n      <th>Moody's ESG Solution</th>\n      <th>Sustainalytics</th>\n      <th>Carbon footprint (total GHG emissions / enterprise value)</th>\n      <th>Share of women in total workforce</th>\n      <th>...</th>\n      <th>Subsector</th>\n      <th>Share of women in management bodies</th>\n      <th>Gender pay gap</th>\n      <th>Professional equality index</th>\n      <th>Rate of employees with disabilities</th>\n      <th>Average training hours per employee</th>\n      <th>Board gender diversity (female board members / total board members)</th>\n      <th>Number of female board members</th>\n      <th>Number of board members</th>\n      <th>Total energy consumption</th>\n    </tr>\n  </thead>\n  <tbody>\n    <tr>\n      <th>0</th>\n      <td>ACCOR</td>\n      <td>EUR</td>\n      <td>9.656B</td>\n      <td>NaN</td>\n      <td>NaN</td>\n      <td>NaN</td>\n      <td>NaN</td>\n      <td>NaN</td>\n      <td>535.17 Ton / Million (EUR)</td>\n      <td>%</td>\n      <td>...</td>\n      <td>40501025, Hotels and Motels</td>\n      <td>%</td>\n      <td>%</td>\n      <td>unit</td>\n      <td>%</td>\n      <td>unit</td>\n      <td>61.50%</td>\n      <td>8 unit</td>\n      <td>13 unit</td>\n      <td>13,712 GWh</td>\n    </tr>\n    <tr>\n      <th>1</th>\n      <td>AIR LIQUIDE</td>\n      <td>EUR</td>\n      <td>98.258B</td>\n      <td>NaN</td>\n      <td>NaN</td>\n      <td>NaN</td>\n      <td>NaN</td>\n      <td>NaN</td>\n      <td>NaN</td>\n      <td>28%</td>\n      <td>...</td>\n      <td>55201020, Specialty Chemicals</td>\n      <td>30%</td>\n      <td>NaN</td>\n      <td>87 unit</td>\n      <td>4.50%</td>\n      <td>20 unit</td>\n      <td>35.70%</td>\n      <td>5 unit</td>\n      <td>14 unit</td>\n      <td>GWh</td>\n    </tr>\n    <tr>\n      <th>2</th>\n      <td>AIRBUS SE</td>\n      <td>EUR</td>\n      <td>127.257B</td>\n      <td>NaN</td>\n      <td>NaN</td>\n      <td>NaN</td>\n      <td>NaN</td>\n      <td>NaN</td>\n      <td>NaN</td>\n      <td>20%</td>\n      <td>...</td>\n      <td>50201010, Aerospace</td>\n      <td>NaN</td>\n      <td>NaN</td>\n      <td>NaN</td>\n      <td>NaN</td>\n      <td>15 unit</td>\n      <td>33.33%</td>\n      <td>4 unit</td>\n      <td>12 unit</td>\n      <td>3,717 GWh</td>\n    </tr>\n    <tr>\n      <th>3</th>\n      <td>ARCELORMITTAL SA</td>\n      <td>EUR</td>\n      <td>20.331B</td>\n      <td>NaN</td>\n      <td>NaN</td>\n      <td>NaN</td>\n      <td>NaN</td>\n      <td>NaN</td>\n      <td>3,373.201 Ton / Million (USD)</td>\n      <td>NaN</td>\n      <td>...</td>\n      <td>55102010, Iron and Steel</td>\n      <td>15.70%</td>\n      <td>NaN</td>\n      <td>NaN</td>\n      <td>NaN</td>\n      <td>NaN</td>\n      <td>30%</td>\n      <td>3 unit</td>\n      <td>10 unit</td>\n      <td>1,392,000,000 gigajoule</td>\n    </tr>\n    <tr>\n      <th>4</th>\n      <td>AXA</td>\n      <td>EUR</td>\n      <td>77.141B</td>\n      <td>NaN</td>\n      <td>NaN</td>\n      <td>NaN</td>\n      <td>NaN</td>\n      <td>NaN</td>\n      <td>2.54 Ton / Million (EUR)</td>\n      <td>NaN</td>\n      <td>...</td>\n      <td>30302010, Full Line Insurance</td>\n      <td>35.30%</td>\n      <td>NaN</td>\n      <td>NaN</td>\n      <td>0.70%</td>\n      <td>NaN</td>\n      <td>56.30%</td>\n      <td>9 unit</td>\n      <td>16 unit</td>\n      <td>223,638 MWh</td>\n    </tr>\n    <tr>\n      <th>...</th>\n      <td>...</td>\n      <td>...</td>\n      <td>...</td>\n      <td>...</td>\n      <td>...</td>\n      <td>...</td>\n      <td>...</td>\n      <td>...</td>\n      <td>...</td>\n      <td>...</td>\n      <td>...</td>\n      <td>...</td>\n      <td>...</td>\n      <td>...</td>\n      <td>...</td>\n      <td>...</td>\n      <td>...</td>\n      <td>...</td>\n      <td>...</td>\n      <td>...</td>\n      <td>...</td>\n    </tr>\n    <tr>\n      <th>185</th>\n      <td>STELLANTIS</td>\n      <td>EUR</td>\n      <td>77.072B</td>\n      <td>NaN</td>\n      <td>NaN</td>\n      <td>NaN</td>\n      <td>NaN</td>\n      <td>NaN</td>\n      <td>6,409.5742 Ton / Million (EUR)</td>\n      <td>%</td>\n      <td>...</td>\n      <td>40101020, Automobiles</td>\n      <td>%</td>\n      <td>NaN</td>\n      <td>NaN</td>\n      <td>NaN</td>\n      <td>unit</td>\n      <td>27.27%</td>\n      <td>3 unit</td>\n      <td>11 unit</td>\n      <td>15,494,891 MWh</td>\n    </tr>\n    <tr>\n      <th>186</th>\n      <td>STMICROELECTRONICS</td>\n      <td>EUR</td>\n      <td>34.237B</td>\n      <td>NaN</td>\n      <td>NaN</td>\n      <td>NaN</td>\n      <td>NaN</td>\n      <td>NaN</td>\n      <td>27.9849 Ton / Million (USD)</td>\n      <td>%</td>\n      <td>...</td>\n      <td>10102010, Semiconductors</td>\n      <td>%</td>\n      <td>%</td>\n      <td>unit</td>\n      <td>%</td>\n      <td>unit</td>\n      <td>44.44%</td>\n      <td>4 unit</td>\n      <td>9 unit</td>\n      <td>10,363.96 terajoule</td>\n    </tr>\n    <tr>\n      <th>187</th>\n      <td>TELECOM ITALIA</td>\n      <td>EUR</td>\n      <td>3.357B</td>\n      <td>NaN</td>\n      <td>NaN</td>\n      <td>NaN</td>\n      <td>NaN</td>\n      <td>NaN</td>\n      <td>124.89 Ton / Million (EUR)</td>\n      <td>38%</td>\n      <td>...</td>\n      <td>15102015, Telecommunications Services</td>\n      <td>28%</td>\n      <td>NaN</td>\n      <td>NaN</td>\n      <td>3%</td>\n      <td>53.75 unit</td>\n      <td>40%</td>\n      <td>6 unit</td>\n      <td>15 unit</td>\n      <td>2,671 GWh</td>\n    </tr>\n    <tr>\n      <th>189</th>\n      <td>TERNA</td>\n      <td>EUR</td>\n      <td>14.605B</td>\n      <td>NaN</td>\n      <td>NaN</td>\n      <td>NaN</td>\n      <td>NaN</td>\n      <td>NaN</td>\n      <td>132.1212 Ton / Million (EUR)</td>\n      <td>16.08%</td>\n      <td>...</td>\n      <td>65101015, Conventional Electricity</td>\n      <td>23.70%</td>\n      <td>19%</td>\n      <td>NaN</td>\n      <td>NaN</td>\n      <td>36 unit</td>\n      <td>46.15%</td>\n      <td>6 unit</td>\n      <td>13 unit</td>\n      <td>928,277.4 gigajoule</td>\n    </tr>\n    <tr>\n      <th>191</th>\n      <td>UNIPOL</td>\n      <td>EUR</td>\n      <td>5.833B</td>\n      <td>NaN</td>\n      <td>NaN</td>\n      <td>NaN</td>\n      <td>NaN</td>\n      <td>NaN</td>\n      <td>476.3635 Ton / Million (EUR)</td>\n      <td>54.30%</td>\n      <td>...</td>\n      <td>30302010, Full Line Insurance</td>\n      <td>16.23%</td>\n      <td>9%</td>\n      <td>NaN</td>\n      <td>%</td>\n      <td>15.72 unit</td>\n      <td>40%</td>\n      <td>6 unit</td>\n      <td>15 unit</td>\n      <td>530,790 gigajoule</td>\n    </tr>\n  </tbody>\n</table>\n<p>187 rows × 28 columns</p>\n</div>"
     },
     "execution_count": 105,
     "metadata": {},
     "output_type": "execute_result"
    }
   ],
   "source": [
    "# Count rows where all elements are NaN\n",
    "empty_rows_count = data.isna().all(axis=1).sum()\n",
    "print(\"Number of completely empty rows:\", empty_rows_count)\n",
    "\n",
    "# Check for rows that are completely empty and drop them\n",
    "data = data.dropna(how='all', axis=0)\n",
    "data\n"
   ],
   "metadata": {
    "collapsed": false,
    "ExecuteTime": {
     "end_time": "2024-04-19T09:17:29.813094100Z",
     "start_time": "2024-04-19T09:17:29.788848200Z"
    }
   },
   "id": "2d2d34e4bbe41738",
   "execution_count": 105
  },
  {
   "cell_type": "code",
   "outputs": [
    {
     "name": "stderr",
     "output_type": "stream",
     "text": [
      "C:\\Users\\chris\\AppData\\Local\\Temp\\ipykernel_20008\\3159644454.py:17: SettingWithCopyWarning: \n",
      "A value is trying to be set on a copy of a slice from a DataFrame.\n",
      "Try using .loc[row_indexer,col_indexer] = value instead\n",
      "\n",
      "See the caveats in the documentation: https://pandas.pydata.org/pandas-docs/stable/user_guide/indexing.html#returning-a-view-versus-a-copy\n",
      "  data['Market Cap'] = data['Market Cap'].apply(convert_market_cap)\n"
     ]
    },
    {
     "data": {
      "text/plain": "                   Name Currency    Market Cap  CDP FTSE4Good  \\\n0                 ACCOR      EUR  9.656000e+09  NaN       NaN   \n1           AIR LIQUIDE      EUR  9.825800e+10  NaN       NaN   \n2             AIRBUS SE      EUR  1.272570e+11  NaN       NaN   \n3      ARCELORMITTAL SA      EUR  2.033100e+10  NaN       NaN   \n4                   AXA      EUR  7.714100e+10  NaN       NaN   \n..                  ...      ...           ...  ...       ...   \n185          STELLANTIS      EUR  7.707200e+10  NaN       NaN   \n186  STMICROELECTRONICS      EUR  3.423700e+10  NaN       NaN   \n187      TELECOM ITALIA      EUR  3.357000e+09  NaN       NaN   \n189               TERNA      EUR  1.460500e+10  NaN       NaN   \n191              UNIPOL      EUR  5.833000e+09  NaN       NaN   \n\n    MSCI ESG Ratings Moody's ESG Solution Sustainalytics  \\\n0                NaN                  NaN            NaN   \n1                NaN                  NaN            NaN   \n2                NaN                  NaN            NaN   \n3                NaN                  NaN            NaN   \n4                NaN                  NaN            NaN   \n..               ...                  ...            ...   \n185              NaN                  NaN            NaN   \n186              NaN                  NaN            NaN   \n187              NaN                  NaN            NaN   \n189              NaN                  NaN            NaN   \n191              NaN                  NaN            NaN   \n\n    Carbon footprint (total GHG emissions / enterprise value)  \\\n0                           535.17 Ton / Million (EUR)          \n1                                                  NaN          \n2                                                  NaN          \n3                        3,373.201 Ton / Million (USD)          \n4                             2.54 Ton / Million (EUR)          \n..                                                 ...          \n185                     6,409.5742 Ton / Million (EUR)          \n186                        27.9849 Ton / Million (USD)          \n187                         124.89 Ton / Million (EUR)          \n189                       132.1212 Ton / Million (EUR)          \n191                       476.3635 Ton / Million (EUR)          \n\n    Share of women in total workforce  ...  \\\n0                                   %  ...   \n1                                 28%  ...   \n2                                 20%  ...   \n3                                 NaN  ...   \n4                                 NaN  ...   \n..                                ...  ...   \n185                                 %  ...   \n186                                 %  ...   \n187                               38%  ...   \n189                            16.08%  ...   \n191                            54.30%  ...   \n\n                                 Subsector  \\\n0              40501025, Hotels and Motels   \n1            55201020, Specialty Chemicals   \n2                      50201010, Aerospace   \n3                 55102010, Iron and Steel   \n4            30302010, Full Line Insurance   \n..                                     ...   \n185                  40101020, Automobiles   \n186               10102010, Semiconductors   \n187  15102015, Telecommunications Services   \n189     65101015, Conventional Electricity   \n191          30302010, Full Line Insurance   \n\n    Share of women in management bodies Gender pay gap  \\\n0                                     %              %   \n1                                   30%            NaN   \n2                                   NaN            NaN   \n3                                15.70%            NaN   \n4                                35.30%            NaN   \n..                                  ...            ...   \n185                                   %            NaN   \n186                                   %              %   \n187                                 28%            NaN   \n189                              23.70%            19%   \n191                              16.23%             9%   \n\n    Professional equality index Rate of employees with disabilities  \\\n0                          unit                                   %   \n1                       87 unit                               4.50%   \n2                           NaN                                 NaN   \n3                           NaN                                 NaN   \n4                           NaN                               0.70%   \n..                          ...                                 ...   \n185                         NaN                                 NaN   \n186                        unit                                   %   \n187                         NaN                                  3%   \n189                         NaN                                 NaN   \n191                         NaN                                   %   \n\n    Average training hours per employee  \\\n0                                  unit   \n1                               20 unit   \n2                               15 unit   \n3                                   NaN   \n4                                   NaN   \n..                                  ...   \n185                                unit   \n186                                unit   \n187                          53.75 unit   \n189                             36 unit   \n191                          15.72 unit   \n\n    Board gender diversity (female board members / total board members)  \\\n0                                               61.50%                    \n1                                               35.70%                    \n2                                               33.33%                    \n3                                                  30%                    \n4                                               56.30%                    \n..                                                 ...                    \n185                                             27.27%                    \n186                                             44.44%                    \n187                                                40%                    \n189                                             46.15%                    \n191                                                40%                    \n\n    Number of female board members Number of board members  \\\n0                           8 unit                 13 unit   \n1                           5 unit                 14 unit   \n2                           4 unit                 12 unit   \n3                           3 unit                 10 unit   \n4                           9 unit                 16 unit   \n..                             ...                     ...   \n185                         3 unit                 11 unit   \n186                         4 unit                  9 unit   \n187                         6 unit                 15 unit   \n189                         6 unit                 13 unit   \n191                         6 unit                 15 unit   \n\n    Total energy consumption  \n0                 13,712 GWh  \n1                        GWh  \n2                  3,717 GWh  \n3    1,392,000,000 gigajoule  \n4                223,638 MWh  \n..                       ...  \n185           15,494,891 MWh  \n186      10,363.96 terajoule  \n187                2,671 GWh  \n189      928,277.4 gigajoule  \n191        530,790 gigajoule  \n\n[187 rows x 28 columns]",
      "text/html": "<div>\n<style scoped>\n    .dataframe tbody tr th:only-of-type {\n        vertical-align: middle;\n    }\n\n    .dataframe tbody tr th {\n        vertical-align: top;\n    }\n\n    .dataframe thead th {\n        text-align: right;\n    }\n</style>\n<table border=\"1\" class=\"dataframe\">\n  <thead>\n    <tr style=\"text-align: right;\">\n      <th></th>\n      <th>Name</th>\n      <th>Currency</th>\n      <th>Market Cap</th>\n      <th>CDP</th>\n      <th>FTSE4Good</th>\n      <th>MSCI ESG Ratings</th>\n      <th>Moody's ESG Solution</th>\n      <th>Sustainalytics</th>\n      <th>Carbon footprint (total GHG emissions / enterprise value)</th>\n      <th>Share of women in total workforce</th>\n      <th>...</th>\n      <th>Subsector</th>\n      <th>Share of women in management bodies</th>\n      <th>Gender pay gap</th>\n      <th>Professional equality index</th>\n      <th>Rate of employees with disabilities</th>\n      <th>Average training hours per employee</th>\n      <th>Board gender diversity (female board members / total board members)</th>\n      <th>Number of female board members</th>\n      <th>Number of board members</th>\n      <th>Total energy consumption</th>\n    </tr>\n  </thead>\n  <tbody>\n    <tr>\n      <th>0</th>\n      <td>ACCOR</td>\n      <td>EUR</td>\n      <td>9.656000e+09</td>\n      <td>NaN</td>\n      <td>NaN</td>\n      <td>NaN</td>\n      <td>NaN</td>\n      <td>NaN</td>\n      <td>535.17 Ton / Million (EUR)</td>\n      <td>%</td>\n      <td>...</td>\n      <td>40501025, Hotels and Motels</td>\n      <td>%</td>\n      <td>%</td>\n      <td>unit</td>\n      <td>%</td>\n      <td>unit</td>\n      <td>61.50%</td>\n      <td>8 unit</td>\n      <td>13 unit</td>\n      <td>13,712 GWh</td>\n    </tr>\n    <tr>\n      <th>1</th>\n      <td>AIR LIQUIDE</td>\n      <td>EUR</td>\n      <td>9.825800e+10</td>\n      <td>NaN</td>\n      <td>NaN</td>\n      <td>NaN</td>\n      <td>NaN</td>\n      <td>NaN</td>\n      <td>NaN</td>\n      <td>28%</td>\n      <td>...</td>\n      <td>55201020, Specialty Chemicals</td>\n      <td>30%</td>\n      <td>NaN</td>\n      <td>87 unit</td>\n      <td>4.50%</td>\n      <td>20 unit</td>\n      <td>35.70%</td>\n      <td>5 unit</td>\n      <td>14 unit</td>\n      <td>GWh</td>\n    </tr>\n    <tr>\n      <th>2</th>\n      <td>AIRBUS SE</td>\n      <td>EUR</td>\n      <td>1.272570e+11</td>\n      <td>NaN</td>\n      <td>NaN</td>\n      <td>NaN</td>\n      <td>NaN</td>\n      <td>NaN</td>\n      <td>NaN</td>\n      <td>20%</td>\n      <td>...</td>\n      <td>50201010, Aerospace</td>\n      <td>NaN</td>\n      <td>NaN</td>\n      <td>NaN</td>\n      <td>NaN</td>\n      <td>15 unit</td>\n      <td>33.33%</td>\n      <td>4 unit</td>\n      <td>12 unit</td>\n      <td>3,717 GWh</td>\n    </tr>\n    <tr>\n      <th>3</th>\n      <td>ARCELORMITTAL SA</td>\n      <td>EUR</td>\n      <td>2.033100e+10</td>\n      <td>NaN</td>\n      <td>NaN</td>\n      <td>NaN</td>\n      <td>NaN</td>\n      <td>NaN</td>\n      <td>3,373.201 Ton / Million (USD)</td>\n      <td>NaN</td>\n      <td>...</td>\n      <td>55102010, Iron and Steel</td>\n      <td>15.70%</td>\n      <td>NaN</td>\n      <td>NaN</td>\n      <td>NaN</td>\n      <td>NaN</td>\n      <td>30%</td>\n      <td>3 unit</td>\n      <td>10 unit</td>\n      <td>1,392,000,000 gigajoule</td>\n    </tr>\n    <tr>\n      <th>4</th>\n      <td>AXA</td>\n      <td>EUR</td>\n      <td>7.714100e+10</td>\n      <td>NaN</td>\n      <td>NaN</td>\n      <td>NaN</td>\n      <td>NaN</td>\n      <td>NaN</td>\n      <td>2.54 Ton / Million (EUR)</td>\n      <td>NaN</td>\n      <td>...</td>\n      <td>30302010, Full Line Insurance</td>\n      <td>35.30%</td>\n      <td>NaN</td>\n      <td>NaN</td>\n      <td>0.70%</td>\n      <td>NaN</td>\n      <td>56.30%</td>\n      <td>9 unit</td>\n      <td>16 unit</td>\n      <td>223,638 MWh</td>\n    </tr>\n    <tr>\n      <th>...</th>\n      <td>...</td>\n      <td>...</td>\n      <td>...</td>\n      <td>...</td>\n      <td>...</td>\n      <td>...</td>\n      <td>...</td>\n      <td>...</td>\n      <td>...</td>\n      <td>...</td>\n      <td>...</td>\n      <td>...</td>\n      <td>...</td>\n      <td>...</td>\n      <td>...</td>\n      <td>...</td>\n      <td>...</td>\n      <td>...</td>\n      <td>...</td>\n      <td>...</td>\n      <td>...</td>\n    </tr>\n    <tr>\n      <th>185</th>\n      <td>STELLANTIS</td>\n      <td>EUR</td>\n      <td>7.707200e+10</td>\n      <td>NaN</td>\n      <td>NaN</td>\n      <td>NaN</td>\n      <td>NaN</td>\n      <td>NaN</td>\n      <td>6,409.5742 Ton / Million (EUR)</td>\n      <td>%</td>\n      <td>...</td>\n      <td>40101020, Automobiles</td>\n      <td>%</td>\n      <td>NaN</td>\n      <td>NaN</td>\n      <td>NaN</td>\n      <td>unit</td>\n      <td>27.27%</td>\n      <td>3 unit</td>\n      <td>11 unit</td>\n      <td>15,494,891 MWh</td>\n    </tr>\n    <tr>\n      <th>186</th>\n      <td>STMICROELECTRONICS</td>\n      <td>EUR</td>\n      <td>3.423700e+10</td>\n      <td>NaN</td>\n      <td>NaN</td>\n      <td>NaN</td>\n      <td>NaN</td>\n      <td>NaN</td>\n      <td>27.9849 Ton / Million (USD)</td>\n      <td>%</td>\n      <td>...</td>\n      <td>10102010, Semiconductors</td>\n      <td>%</td>\n      <td>%</td>\n      <td>unit</td>\n      <td>%</td>\n      <td>unit</td>\n      <td>44.44%</td>\n      <td>4 unit</td>\n      <td>9 unit</td>\n      <td>10,363.96 terajoule</td>\n    </tr>\n    <tr>\n      <th>187</th>\n      <td>TELECOM ITALIA</td>\n      <td>EUR</td>\n      <td>3.357000e+09</td>\n      <td>NaN</td>\n      <td>NaN</td>\n      <td>NaN</td>\n      <td>NaN</td>\n      <td>NaN</td>\n      <td>124.89 Ton / Million (EUR)</td>\n      <td>38%</td>\n      <td>...</td>\n      <td>15102015, Telecommunications Services</td>\n      <td>28%</td>\n      <td>NaN</td>\n      <td>NaN</td>\n      <td>3%</td>\n      <td>53.75 unit</td>\n      <td>40%</td>\n      <td>6 unit</td>\n      <td>15 unit</td>\n      <td>2,671 GWh</td>\n    </tr>\n    <tr>\n      <th>189</th>\n      <td>TERNA</td>\n      <td>EUR</td>\n      <td>1.460500e+10</td>\n      <td>NaN</td>\n      <td>NaN</td>\n      <td>NaN</td>\n      <td>NaN</td>\n      <td>NaN</td>\n      <td>132.1212 Ton / Million (EUR)</td>\n      <td>16.08%</td>\n      <td>...</td>\n      <td>65101015, Conventional Electricity</td>\n      <td>23.70%</td>\n      <td>19%</td>\n      <td>NaN</td>\n      <td>NaN</td>\n      <td>36 unit</td>\n      <td>46.15%</td>\n      <td>6 unit</td>\n      <td>13 unit</td>\n      <td>928,277.4 gigajoule</td>\n    </tr>\n    <tr>\n      <th>191</th>\n      <td>UNIPOL</td>\n      <td>EUR</td>\n      <td>5.833000e+09</td>\n      <td>NaN</td>\n      <td>NaN</td>\n      <td>NaN</td>\n      <td>NaN</td>\n      <td>NaN</td>\n      <td>476.3635 Ton / Million (EUR)</td>\n      <td>54.30%</td>\n      <td>...</td>\n      <td>30302010, Full Line Insurance</td>\n      <td>16.23%</td>\n      <td>9%</td>\n      <td>NaN</td>\n      <td>%</td>\n      <td>15.72 unit</td>\n      <td>40%</td>\n      <td>6 unit</td>\n      <td>15 unit</td>\n      <td>530,790 gigajoule</td>\n    </tr>\n  </tbody>\n</table>\n<p>187 rows × 28 columns</p>\n</div>"
     },
     "execution_count": 106,
     "metadata": {},
     "output_type": "execute_result"
    }
   ],
   "source": [
    "# Helper function to convert Market Cap to numeric\n",
    "def convert_market_cap(value):\n",
    "    if pd.isna(value):\n",
    "        return np.nan\n",
    "    value = value.strip().upper()\n",
    "    if value.endswith('B'):\n",
    "        value =  float(value[:-1]) * 1e9  # Convert billions to a numeric value\n",
    "    elif value.endswith('M'):\n",
    "        value =  float(value[:-1]) * 1e6  # Convert millions to a numeric value\n",
    "    elif value.endswith('K'):\n",
    "        value =  float(value[:-1]) * 1e3  # Convert thousands to a numeric value\n",
    "    else:\n",
    "        value = float(value)  # Handle numeric-only strings as is\n",
    "    return round(value,3)\n",
    "    \n",
    "# Apply conversions\n",
    "data['Market Cap'] = data['Market Cap'].apply(convert_market_cap)\n",
    "data\n"
   ],
   "metadata": {
    "collapsed": false,
    "ExecuteTime": {
     "end_time": "2024-04-19T09:17:29.890358400Z",
     "start_time": "2024-04-19T09:17:29.815092400Z"
    }
   },
   "id": "83b62884864c67f4",
   "execution_count": 106
  },
  {
   "cell_type": "code",
   "outputs": [
    {
     "ename": "SyntaxError",
     "evalue": "'(' was never closed (2254656842.py, line 37)",
     "output_type": "error",
     "traceback": [
      "\u001B[1;36m  Cell \u001B[1;32mIn[107], line 37\u001B[1;36m\u001B[0m\n\u001B[1;33m    data['Carbon footprint (total GHG emissions / enterprise value)' + '_in_USD'] = data['Carbon footprint (total GHG emissions / enterprise value)'].apply(parse_and_convert_tons_currency\u001B[0m\n\u001B[1;37m                                                                                                                                                           ^\u001B[0m\n\u001B[1;31mSyntaxError\u001B[0m\u001B[1;31m:\u001B[0m '(' was never closed\n"
     ]
    }
   ],
   "source": [
    "def parse_and_convert_tons_currency(value):\n",
    "    # Beispiel-Wechselkurse zu USD: Google 18. Apr., 13:08 UTC\n",
    "    exchange_rates = {\n",
    "    'EUR': 1.07,\n",
    "    'GBP': 1.25,\n",
    "    'NOK': 0.091 \n",
    "    }\n",
    "    # Prüft auf NaN Werte\n",
    "    if pd.isna(value) or value == '':\n",
    "        return None\n",
    "    \n",
    "    parts = value.split(' ')\n",
    "    \n",
    "    if len(parts) < 5:\n",
    "        return None\n",
    "\n",
    "    # Extrahiert den Betrag, die Einheit und die Währung\n",
    "    if parts[0].replace(',', '') == '':\n",
    "        amount =  0\n",
    "    else:\n",
    "        amount = float(parts[0].replace(',', ''))\n",
    "    \n",
    "    unit = parts[2]\n",
    "    currency = parts[4].strip('()')\n",
    "\n",
    "    # Konvertiert Tausend in Millionen, falls nötig\n",
    "    if unit == 'Thousand':\n",
    "        amount /= 1000\n",
    "\n",
    "    # Wandelt den Betrag in USD um, falls er nicht bereits in USD ist\n",
    "    if currency != 'USD':\n",
    "        amount *= round(float(exchange_rates.get(currency,1)),3)\n",
    "\n",
    "    return amount\n",
    "\n",
    "# Anwendung der Funktion\n",
    "data['Carbon footprint (total GHG emissions / enterprise value)' + '_in_USD'] = data['Carbon footprint (total GHG emissions / enterprise value)'].apply(parse_and_convert_tons_currency\n",
    "data = data.drop('Carbon footprint (total GHG emissions / enterprise value)',axis='columns')\n",
    "data"
   ],
   "metadata": {
    "collapsed": false,
    "ExecuteTime": {
     "end_time": "2024-04-19T09:17:30.037274100Z",
     "start_time": "2024-04-19T09:17:29.868765800Z"
    }
   },
   "id": "57a5f4e444c28d44",
   "execution_count": 107
  },
  {
   "cell_type": "code",
   "outputs": [
    {
     "name": "stdout",
     "output_type": "stream",
     "text": [
      "<class 'pandas.core.frame.DataFrame'>\n",
      "Int64Index: 187 entries, 0 to 191\n",
      "Data columns (total 28 columns):\n",
      " #   Column                                                                    Non-Null Count  Dtype  \n",
      "---  ------                                                                    --------------  -----  \n",
      " 0   Name                                                                      187 non-null    object \n",
      " 1   Currency                                                                  181 non-null    object \n",
      " 2   Market Cap                                                                181 non-null    float64\n",
      " 3   CDP                                                                       19 non-null     object \n",
      " 4   FTSE4Good                                                                 4 non-null      object \n",
      " 5   MSCI ESG Ratings                                                          4 non-null      object \n",
      " 6   Moody's ESG Solution                                                      2 non-null      object \n",
      " 7   Sustainalytics                                                            27 non-null     object \n",
      " 8   Carbon footprint (total GHG emissions / enterprise value)                 119 non-null    object \n",
      " 9   Type                                                                      187 non-null    object \n",
      " 10  Sub type                                                                  187 non-null    object \n",
      " 11  Market                                                                    187 non-null    object \n",
      " 12  ISIN Code                                                                 187 non-null    object \n",
      " 13  Industry                                                                  187 non-null    object \n",
      " 14  SuperSector                                                               187 non-null    object \n",
      " 15  Sector                                                                    187 non-null    object \n",
      " 16  Subsector                                                                 187 non-null    object \n",
      " 17  Professional equality index                                               21 non-null     float64\n",
      " 18  Average training hours per employee                                       106 non-null    float64\n",
      " 19  Number of female board members                                            168 non-null    float64\n",
      " 20  Number of board members                                                   168 non-null    float64\n",
      " 21  Share of women in total workforce in %                                    144 non-null    float64\n",
      " 22  Share of women in management bodies in %                                  125 non-null    float64\n",
      " 23  Gender pay gap in %                                                       47 non-null     float64\n",
      " 24  Rate of employees with disabilities in %                                  50 non-null     float64\n",
      " 25  Board gender diversity (female board members / total board members) in %  168 non-null    float64\n",
      " 26  Total energy consumption in mwh                                           124 non-null    float64\n",
      " 27  Rate of resignation in %                                                  51 non-null     float64\n",
      "dtypes: float64(12), object(16)\n",
      "memory usage: 42.4+ KB\n"
     ]
    },
    {
     "name": "stderr",
     "output_type": "stream",
     "text": [
      "C:\\Users\\chris\\AppData\\Local\\Temp\\ipykernel_20008\\1852073730.py:30: SettingWithCopyWarning: \n",
      "A value is trying to be set on a copy of a slice from a DataFrame.\n",
      "Try using .loc[row_indexer,col_indexer] = value instead\n",
      "\n",
      "See the caveats in the documentation: https://pandas.pydata.org/pandas-docs/stable/user_guide/indexing.html#returning-a-view-versus-a-copy\n",
      "  data['Share of women in total workforce in %'] = data['Share of women in total workforce'].apply(convert_percentage)\n"
     ]
    }
   ],
   "source": [
    "# Helper function to convert percentage strings to floats\n",
    "def convert_percentage(value):\n",
    "    if pd.isna(value) or value.strip('% ') == '':\n",
    "        return np.nan\n",
    "    return round(float(value.strip('% ')) / 100,3)\n",
    "\n",
    "def unit_strip(value):\n",
    "    if pd.isna(value) or value.strip('unit') == '':\n",
    "        return np.nan\n",
    "    elif value.replace('unit', '') == \" \":\n",
    "        return np.nan\n",
    "    return float(value.replace('unit', ''))\n",
    "\n",
    "import re\n",
    "def convert_to_mwh(value):\n",
    "    conversion_factors = {\n",
    "    'GWh': 1000,\n",
    "    'terajoule': 277.778,\n",
    "    'gigajoule': 0.277778,\n",
    "    'MWh': 1\n",
    "    }\n",
    "    match = re.search(r'([\\d,]+(?:\\.\\d+)?)\\s*(GWh|MWh|terajoule|gigajoule)', str(value).replace(',', ''))\n",
    "    if match:\n",
    "        # Convert string value to float\n",
    "        value = float(match.group(1).replace(',', ''))\n",
    "        unit = match.group(2)\n",
    "        return round(value * conversion_factors[unit],3) # Convert the value to MWh\n",
    "\n",
    "# Apply conversions\n",
    "data['Share of women in total workforce in %'] = data['Share of women in total workforce'].apply(convert_percentage)\n",
    "data = data.drop(\"Share of women in total workforce\",axis='columns')\n",
    "data['Share of women in management bodies in %'] = data['Share of women in management bodies'].apply(convert_percentage)\n",
    "data = data.drop('Share of women in management bodies',axis='columns')\n",
    "data['Gender pay gap in %'] = data['Gender pay gap'].apply(convert_percentage)\n",
    "data = data.drop('Gender pay gap',axis='columns')\n",
    "data['Rate of employees with disabilities in %'] = data['Rate of employees with disabilities'].apply(convert_percentage)\n",
    "data = data.drop('Rate of employees with disabilities',axis='columns')\n",
    "data['Board gender diversity (female board members / total board members) in %'] = data['Board gender diversity (female board members / total board members)'].apply(convert_percentage)\n",
    "data = data.drop('Board gender diversity (female board members / total board members)',axis='columns')\n",
    "data['Professional equality index'] = data['Professional equality index'].apply(unit_strip)\n",
    "data['Number of female board members'] = data['Number of female board members'].apply(unit_strip)\n",
    "data['Number of board members'] = data['Number of board members'].apply(unit_strip)\n",
    "data['Average training hours per employee'] = data['Average training hours per employee'].apply(unit_strip)\n",
    "data['Total energy consumption in mwh'] = data['Total energy consumption'].apply(convert_to_mwh)\n",
    "data = data.drop('Total energy consumption', axis='columns')\n",
    "data['Rate of resignation in %'] = data['Rate of resignation'].apply(convert_percentage)\n",
    "data = data.drop('Rate of resignation', axis='columns')\n",
    "data\n",
    "\n",
    "# Transformed data\n",
    "data.head()\n",
    "data.info()"
   ],
   "metadata": {
    "collapsed": false,
    "ExecuteTime": {
     "end_time": "2024-04-19T09:17:30.241121800Z",
     "start_time": "2024-04-19T09:17:30.000881800Z"
    }
   },
   "id": "9ac0d9a4f0c1187a",
   "execution_count": 108
  },
  {
   "cell_type": "code",
   "outputs": [
    {
     "data": {
      "text/plain": "                   Name Currency    Market Cap  CDP FTSE4Good  \\\n0                 ACCOR      EUR  9.656000e+09  NaN       NaN   \n1           AIR LIQUIDE      EUR  9.825800e+10  NaN       NaN   \n2             AIRBUS SE      EUR  1.272570e+11  NaN       NaN   \n3      ARCELORMITTAL SA      EUR  2.033100e+10  NaN       NaN   \n4                   AXA      EUR  7.714100e+10  NaN       NaN   \n..                  ...      ...           ...  ...       ...   \n185          STELLANTIS      EUR  7.707200e+10  NaN       NaN   \n186  STMICROELECTRONICS      EUR  3.423700e+10  NaN       NaN   \n187      TELECOM ITALIA      EUR  3.357000e+09  NaN       NaN   \n189               TERNA      EUR  1.460500e+10  NaN       NaN   \n191              UNIPOL      EUR  5.833000e+09  NaN       NaN   \n\n    MSCI ESG Ratings Moody's ESG Solution Sustainalytics  \\\n0                NaN                  NaN            NaN   \n1                NaN                  NaN            NaN   \n2                NaN                  NaN            NaN   \n3                NaN                  NaN            NaN   \n4                NaN                  NaN            NaN   \n..               ...                  ...            ...   \n185              NaN                  NaN            NaN   \n186              NaN                  NaN            NaN   \n187              NaN                  NaN            NaN   \n189              NaN                  NaN            NaN   \n191              NaN                  NaN            NaN   \n\n    Carbon footprint (total GHG emissions / enterprise value)   Type  ...  \\\n0                           535.17 Ton / Million (EUR)         Stock  ...   \n1                                                  NaN         Stock  ...   \n2                                                  NaN         Stock  ...   \n3                        3,373.201 Ton / Million (USD)         Stock  ...   \n4                             2.54 Ton / Million (EUR)         Stock  ...   \n..                                                 ...           ...  ...   \n185                     6,409.5742 Ton / Million (EUR)         Stock  ...   \n186                        27.9849 Ton / Million (USD)         Stock  ...   \n187                         124.89 Ton / Million (EUR)         Stock  ...   \n189                       132.1212 Ton / Million (EUR)         Stock  ...   \n191                       476.3635 Ton / Million (EUR)         Stock  ...   \n\n    Average training hours per employee Number of female board members  \\\n0                                   NaN                            8.0   \n1                                 20.00                            5.0   \n2                                 15.00                            4.0   \n3                                   NaN                            3.0   \n4                                   NaN                            9.0   \n..                                  ...                            ...   \n185                                 NaN                            3.0   \n186                                 NaN                            4.0   \n187                               53.75                            6.0   \n189                               36.00                            6.0   \n191                               15.72                            6.0   \n\n    Number of board members Share of women in total workforce in %  \\\n0                      13.0                                    NaN   \n1                      14.0                                  0.280   \n2                      12.0                                  0.200   \n3                      10.0                                    NaN   \n4                      16.0                                    NaN   \n..                      ...                                    ...   \n185                    11.0                                    NaN   \n186                     9.0                                    NaN   \n187                    15.0                                  0.380   \n189                    13.0                                  0.161   \n191                    15.0                                  0.543   \n\n    Share of women in management bodies in % Gender pay gap in %  \\\n0                                        NaN                 NaN   \n1                                      0.300                 NaN   \n2                                        NaN                 NaN   \n3                                      0.157                 NaN   \n4                                      0.353                 NaN   \n..                                       ...                 ...   \n185                                      NaN                 NaN   \n186                                      NaN                 NaN   \n187                                    0.280                 NaN   \n189                                    0.237                0.19   \n191                                    0.162                0.09   \n\n    Rate of employees with disabilities in %  \\\n0                                        NaN   \n1                                      0.045   \n2                                        NaN   \n3                                        NaN   \n4                                      0.007   \n..                                       ...   \n185                                      NaN   \n186                                      NaN   \n187                                    0.030   \n189                                      NaN   \n191                                      NaN   \n\n     Board gender diversity (female board members / total board members) in %  \\\n0                                                0.615                          \n1                                                0.357                          \n2                                                0.333                          \n3                                                0.300                          \n4                                                0.563                          \n..                                                 ...                          \n185                                              0.273                          \n186                                              0.444                          \n187                                              0.400                          \n189                                              0.461                          \n191                                              0.400                          \n\n     Total energy consumption in mwh  Rate of resignation in %  \n0                       1.371200e+07                       NaN  \n1                                NaN                     0.086  \n2                       3.717000e+06                       NaN  \n3                       3.866670e+08                       NaN  \n4                       2.236380e+05                     0.100  \n..                               ...                       ...  \n185                     1.549489e+07                       NaN  \n186                     2.878880e+06                       NaN  \n187                     2.671000e+06                       NaN  \n189                     2.578550e+05                     0.018  \n191                     1.474418e+05                     0.027  \n\n[187 rows x 28 columns]",
      "text/html": "<div>\n<style scoped>\n    .dataframe tbody tr th:only-of-type {\n        vertical-align: middle;\n    }\n\n    .dataframe tbody tr th {\n        vertical-align: top;\n    }\n\n    .dataframe thead th {\n        text-align: right;\n    }\n</style>\n<table border=\"1\" class=\"dataframe\">\n  <thead>\n    <tr style=\"text-align: right;\">\n      <th></th>\n      <th>Name</th>\n      <th>Currency</th>\n      <th>Market Cap</th>\n      <th>CDP</th>\n      <th>FTSE4Good</th>\n      <th>MSCI ESG Ratings</th>\n      <th>Moody's ESG Solution</th>\n      <th>Sustainalytics</th>\n      <th>Carbon footprint (total GHG emissions / enterprise value)</th>\n      <th>Type</th>\n      <th>...</th>\n      <th>Average training hours per employee</th>\n      <th>Number of female board members</th>\n      <th>Number of board members</th>\n      <th>Share of women in total workforce in %</th>\n      <th>Share of women in management bodies in %</th>\n      <th>Gender pay gap in %</th>\n      <th>Rate of employees with disabilities in %</th>\n      <th>Board gender diversity (female board members / total board members) in %</th>\n      <th>Total energy consumption in mwh</th>\n      <th>Rate of resignation in %</th>\n    </tr>\n  </thead>\n  <tbody>\n    <tr>\n      <th>0</th>\n      <td>ACCOR</td>\n      <td>EUR</td>\n      <td>9.656000e+09</td>\n      <td>NaN</td>\n      <td>NaN</td>\n      <td>NaN</td>\n      <td>NaN</td>\n      <td>NaN</td>\n      <td>535.17 Ton / Million (EUR)</td>\n      <td>Stock</td>\n      <td>...</td>\n      <td>NaN</td>\n      <td>8.0</td>\n      <td>13.0</td>\n      <td>NaN</td>\n      <td>NaN</td>\n      <td>NaN</td>\n      <td>NaN</td>\n      <td>0.615</td>\n      <td>1.371200e+07</td>\n      <td>NaN</td>\n    </tr>\n    <tr>\n      <th>1</th>\n      <td>AIR LIQUIDE</td>\n      <td>EUR</td>\n      <td>9.825800e+10</td>\n      <td>NaN</td>\n      <td>NaN</td>\n      <td>NaN</td>\n      <td>NaN</td>\n      <td>NaN</td>\n      <td>NaN</td>\n      <td>Stock</td>\n      <td>...</td>\n      <td>20.00</td>\n      <td>5.0</td>\n      <td>14.0</td>\n      <td>0.280</td>\n      <td>0.300</td>\n      <td>NaN</td>\n      <td>0.045</td>\n      <td>0.357</td>\n      <td>NaN</td>\n      <td>0.086</td>\n    </tr>\n    <tr>\n      <th>2</th>\n      <td>AIRBUS SE</td>\n      <td>EUR</td>\n      <td>1.272570e+11</td>\n      <td>NaN</td>\n      <td>NaN</td>\n      <td>NaN</td>\n      <td>NaN</td>\n      <td>NaN</td>\n      <td>NaN</td>\n      <td>Stock</td>\n      <td>...</td>\n      <td>15.00</td>\n      <td>4.0</td>\n      <td>12.0</td>\n      <td>0.200</td>\n      <td>NaN</td>\n      <td>NaN</td>\n      <td>NaN</td>\n      <td>0.333</td>\n      <td>3.717000e+06</td>\n      <td>NaN</td>\n    </tr>\n    <tr>\n      <th>3</th>\n      <td>ARCELORMITTAL SA</td>\n      <td>EUR</td>\n      <td>2.033100e+10</td>\n      <td>NaN</td>\n      <td>NaN</td>\n      <td>NaN</td>\n      <td>NaN</td>\n      <td>NaN</td>\n      <td>3,373.201 Ton / Million (USD)</td>\n      <td>Stock</td>\n      <td>...</td>\n      <td>NaN</td>\n      <td>3.0</td>\n      <td>10.0</td>\n      <td>NaN</td>\n      <td>0.157</td>\n      <td>NaN</td>\n      <td>NaN</td>\n      <td>0.300</td>\n      <td>3.866670e+08</td>\n      <td>NaN</td>\n    </tr>\n    <tr>\n      <th>4</th>\n      <td>AXA</td>\n      <td>EUR</td>\n      <td>7.714100e+10</td>\n      <td>NaN</td>\n      <td>NaN</td>\n      <td>NaN</td>\n      <td>NaN</td>\n      <td>NaN</td>\n      <td>2.54 Ton / Million (EUR)</td>\n      <td>Stock</td>\n      <td>...</td>\n      <td>NaN</td>\n      <td>9.0</td>\n      <td>16.0</td>\n      <td>NaN</td>\n      <td>0.353</td>\n      <td>NaN</td>\n      <td>0.007</td>\n      <td>0.563</td>\n      <td>2.236380e+05</td>\n      <td>0.100</td>\n    </tr>\n    <tr>\n      <th>...</th>\n      <td>...</td>\n      <td>...</td>\n      <td>...</td>\n      <td>...</td>\n      <td>...</td>\n      <td>...</td>\n      <td>...</td>\n      <td>...</td>\n      <td>...</td>\n      <td>...</td>\n      <td>...</td>\n      <td>...</td>\n      <td>...</td>\n      <td>...</td>\n      <td>...</td>\n      <td>...</td>\n      <td>...</td>\n      <td>...</td>\n      <td>...</td>\n      <td>...</td>\n      <td>...</td>\n    </tr>\n    <tr>\n      <th>185</th>\n      <td>STELLANTIS</td>\n      <td>EUR</td>\n      <td>7.707200e+10</td>\n      <td>NaN</td>\n      <td>NaN</td>\n      <td>NaN</td>\n      <td>NaN</td>\n      <td>NaN</td>\n      <td>6,409.5742 Ton / Million (EUR)</td>\n      <td>Stock</td>\n      <td>...</td>\n      <td>NaN</td>\n      <td>3.0</td>\n      <td>11.0</td>\n      <td>NaN</td>\n      <td>NaN</td>\n      <td>NaN</td>\n      <td>NaN</td>\n      <td>0.273</td>\n      <td>1.549489e+07</td>\n      <td>NaN</td>\n    </tr>\n    <tr>\n      <th>186</th>\n      <td>STMICROELECTRONICS</td>\n      <td>EUR</td>\n      <td>3.423700e+10</td>\n      <td>NaN</td>\n      <td>NaN</td>\n      <td>NaN</td>\n      <td>NaN</td>\n      <td>NaN</td>\n      <td>27.9849 Ton / Million (USD)</td>\n      <td>Stock</td>\n      <td>...</td>\n      <td>NaN</td>\n      <td>4.0</td>\n      <td>9.0</td>\n      <td>NaN</td>\n      <td>NaN</td>\n      <td>NaN</td>\n      <td>NaN</td>\n      <td>0.444</td>\n      <td>2.878880e+06</td>\n      <td>NaN</td>\n    </tr>\n    <tr>\n      <th>187</th>\n      <td>TELECOM ITALIA</td>\n      <td>EUR</td>\n      <td>3.357000e+09</td>\n      <td>NaN</td>\n      <td>NaN</td>\n      <td>NaN</td>\n      <td>NaN</td>\n      <td>NaN</td>\n      <td>124.89 Ton / Million (EUR)</td>\n      <td>Stock</td>\n      <td>...</td>\n      <td>53.75</td>\n      <td>6.0</td>\n      <td>15.0</td>\n      <td>0.380</td>\n      <td>0.280</td>\n      <td>NaN</td>\n      <td>0.030</td>\n      <td>0.400</td>\n      <td>2.671000e+06</td>\n      <td>NaN</td>\n    </tr>\n    <tr>\n      <th>189</th>\n      <td>TERNA</td>\n      <td>EUR</td>\n      <td>1.460500e+10</td>\n      <td>NaN</td>\n      <td>NaN</td>\n      <td>NaN</td>\n      <td>NaN</td>\n      <td>NaN</td>\n      <td>132.1212 Ton / Million (EUR)</td>\n      <td>Stock</td>\n      <td>...</td>\n      <td>36.00</td>\n      <td>6.0</td>\n      <td>13.0</td>\n      <td>0.161</td>\n      <td>0.237</td>\n      <td>0.19</td>\n      <td>NaN</td>\n      <td>0.461</td>\n      <td>2.578550e+05</td>\n      <td>0.018</td>\n    </tr>\n    <tr>\n      <th>191</th>\n      <td>UNIPOL</td>\n      <td>EUR</td>\n      <td>5.833000e+09</td>\n      <td>NaN</td>\n      <td>NaN</td>\n      <td>NaN</td>\n      <td>NaN</td>\n      <td>NaN</td>\n      <td>476.3635 Ton / Million (EUR)</td>\n      <td>Stock</td>\n      <td>...</td>\n      <td>15.72</td>\n      <td>6.0</td>\n      <td>15.0</td>\n      <td>0.543</td>\n      <td>0.162</td>\n      <td>0.09</td>\n      <td>NaN</td>\n      <td>0.400</td>\n      <td>1.474418e+05</td>\n      <td>0.027</td>\n    </tr>\n  </tbody>\n</table>\n<p>187 rows × 28 columns</p>\n</div>"
     },
     "execution_count": 109,
     "metadata": {},
     "output_type": "execute_result"
    }
   ],
   "source": [
    "data"
   ],
   "metadata": {
    "collapsed": false,
    "ExecuteTime": {
     "end_time": "2024-04-19T09:17:30.441720200Z",
     "start_time": "2024-04-19T09:17:30.201340700Z"
    }
   },
   "id": "50a7cbcbe0b65b8",
   "execution_count": 109
  },
  {
   "cell_type": "code",
   "outputs": [
    {
     "data": {
      "text/plain": "Moody's ESG Solution                                                        98.930481\nFTSE4Good                                                                   97.860963\nMSCI ESG Ratings                                                            97.860963\nCDP                                                                         89.839572\nProfessional equality index                                                 88.770053\nSustainalytics                                                              85.561497\nGender pay gap in %                                                         74.866310\nRate of employees with disabilities in %                                    73.262032\nRate of resignation in %                                                    72.727273\nAverage training hours per employee                                         43.315508\nCarbon footprint (total GHG emissions / enterprise value)                   36.363636\nTotal energy consumption in mwh                                             33.689840\nShare of women in management bodies in %                                    33.155080\nShare of women in total workforce in %                                      22.994652\nBoard gender diversity (female board members / total board members) in %    10.160428\nNumber of female board members                                              10.160428\nNumber of board members                                                     10.160428\nCurrency                                                                     3.208556\nMarket Cap                                                                   3.208556\nName                                                                         0.000000\nSubsector                                                                    0.000000\nSector                                                                       0.000000\nIndustry                                                                     0.000000\nISIN Code                                                                    0.000000\nMarket                                                                       0.000000\nSub type                                                                     0.000000\nType                                                                         0.000000\nSuperSector                                                                  0.000000\ndtype: float64"
     },
     "execution_count": 110,
     "metadata": {},
     "output_type": "execute_result"
    }
   ],
   "source": [
    "# Calculate the percentage of missing values per column\n",
    "missing_data = data.isnull().mean() * 100.00\n",
    "\n",
    "# Display the percentage of missing data per column\n",
    "missing_data_sorted = missing_data.sort_values(ascending=False)\n",
    "missing_data_sorted\n"
   ],
   "metadata": {
    "collapsed": false,
    "ExecuteTime": {
     "end_time": "2024-04-19T09:17:30.523721Z",
     "start_time": "2024-04-19T09:17:30.375662600Z"
    }
   },
   "id": "9cd3539ce15151dc",
   "execution_count": 110
  },
  {
   "cell_type": "code",
   "outputs": [
    {
     "data": {
      "text/plain": "                   Name Currency    Market Cap  \\\n0                 ACCOR      EUR  9.656000e+09   \n1           AIR LIQUIDE      EUR  9.825800e+10   \n2             AIRBUS SE      EUR  1.272570e+11   \n3      ARCELORMITTAL SA      EUR  2.033100e+10   \n4                   AXA      EUR  7.714100e+10   \n..                  ...      ...           ...   \n185          STELLANTIS      EUR  7.707200e+10   \n186  STMICROELECTRONICS      EUR  3.423700e+10   \n187      TELECOM ITALIA      EUR  3.357000e+09   \n189               TERNA      EUR  1.460500e+10   \n191              UNIPOL      EUR  5.833000e+09   \n\n    Carbon footprint (total GHG emissions / enterprise value)   Type  \\\n0                           535.17 Ton / Million (EUR)         Stock   \n1                                                  NaN         Stock   \n2                                                  NaN         Stock   \n3                        3,373.201 Ton / Million (USD)         Stock   \n4                             2.54 Ton / Million (EUR)         Stock   \n..                                                 ...           ...   \n185                     6,409.5742 Ton / Million (EUR)         Stock   \n186                        27.9849 Ton / Million (USD)         Stock   \n187                         124.89 Ton / Million (EUR)         Stock   \n189                       132.1212 Ton / Million (EUR)         Stock   \n191                       476.3635 Ton / Million (EUR)         Stock   \n\n            Sub type              Market     ISIN Code  \\\n0    Ordinary Shares      Euronext Paris  FR0000120404   \n1    Ordinary Shares      Euronext Paris  FR0000120073   \n2    Ordinary Shares      Euronext Paris  NL0000235190   \n3    Ordinary Shares  Euronext Amsterdam  LU1598757687   \n4    Ordinary Shares      Euronext Paris  FR0000120628   \n..               ...                 ...           ...   \n185  Ordinary Shares      Euronext Milan  NL00150001Q9   \n186  Ordinary Shares      Euronext Milan  NL0000226223   \n187  Ordinary Shares      Euronext Milan  IT0003497168   \n189  Ordinary Shares      Euronext Milan  IT0003242622   \n191  Ordinary Shares      Euronext Milan  IT0004810054   \n\n                       Industry                          SuperSector  ...  \\\n0    40, Consumer Discretionary             4050, Travel and Leisure  ...   \n1           55, Basic Materials                      5520, Chemicals  ...   \n2               50, Industrials  5020, Industrial Goods and Services  ...   \n3           55, Basic Materials                5510, Basic Resources  ...   \n4                30, Financials                      3030, Insurance  ...   \n..                          ...                                  ...  ...   \n185  40, Consumer Discretionary          4010, Automobiles and Parts  ...   \n186              10, Technology                     1010, Technology  ...   \n187      15, Telecommunications             1510, Telecommunications  ...   \n189               65, Utilities                      6510, Utilities  ...   \n191              30, Financials                      3030, Insurance  ...   \n\n    Average training hours per employee Number of female board members  \\\n0                                   NaN                            8.0   \n1                                 20.00                            5.0   \n2                                 15.00                            4.0   \n3                                   NaN                            3.0   \n4                                   NaN                            9.0   \n..                                  ...                            ...   \n185                                 NaN                            3.0   \n186                                 NaN                            4.0   \n187                               53.75                            6.0   \n189                               36.00                            6.0   \n191                               15.72                            6.0   \n\n     Number of board members  Share of women in total workforce in %  \\\n0                       13.0                                     NaN   \n1                       14.0                                   0.280   \n2                       12.0                                   0.200   \n3                       10.0                                     NaN   \n4                       16.0                                     NaN   \n..                       ...                                     ...   \n185                     11.0                                     NaN   \n186                      9.0                                     NaN   \n187                     15.0                                   0.380   \n189                     13.0                                   0.161   \n191                     15.0                                   0.543   \n\n     Share of women in management bodies in %  Gender pay gap in %  \\\n0                                         NaN                  NaN   \n1                                       0.300                  NaN   \n2                                         NaN                  NaN   \n3                                       0.157                  NaN   \n4                                       0.353                  NaN   \n..                                        ...                  ...   \n185                                       NaN                  NaN   \n186                                       NaN                  NaN   \n187                                     0.280                  NaN   \n189                                     0.237                 0.19   \n191                                     0.162                 0.09   \n\n     Rate of employees with disabilities in %  \\\n0                                         NaN   \n1                                       0.045   \n2                                         NaN   \n3                                         NaN   \n4                                       0.007   \n..                                        ...   \n185                                       NaN   \n186                                       NaN   \n187                                     0.030   \n189                                       NaN   \n191                                       NaN   \n\n     Board gender diversity (female board members / total board members) in %  \\\n0                                                0.615                          \n1                                                0.357                          \n2                                                0.333                          \n3                                                0.300                          \n4                                                0.563                          \n..                                                 ...                          \n185                                              0.273                          \n186                                              0.444                          \n187                                              0.400                          \n189                                              0.461                          \n191                                              0.400                          \n\n     Total energy consumption in mwh  Rate of resignation in %  \n0                       1.371200e+07                       NaN  \n1                                NaN                     0.086  \n2                       3.717000e+06                       NaN  \n3                       3.866670e+08                       NaN  \n4                       2.236380e+05                     0.100  \n..                               ...                       ...  \n185                     1.549489e+07                       NaN  \n186                     2.878880e+06                       NaN  \n187                     2.671000e+06                       NaN  \n189                     2.578550e+05                     0.018  \n191                     1.474418e+05                     0.027  \n\n[187 rows x 22 columns]",
      "text/html": "<div>\n<style scoped>\n    .dataframe tbody tr th:only-of-type {\n        vertical-align: middle;\n    }\n\n    .dataframe tbody tr th {\n        vertical-align: top;\n    }\n\n    .dataframe thead th {\n        text-align: right;\n    }\n</style>\n<table border=\"1\" class=\"dataframe\">\n  <thead>\n    <tr style=\"text-align: right;\">\n      <th></th>\n      <th>Name</th>\n      <th>Currency</th>\n      <th>Market Cap</th>\n      <th>Carbon footprint (total GHG emissions / enterprise value)</th>\n      <th>Type</th>\n      <th>Sub type</th>\n      <th>Market</th>\n      <th>ISIN Code</th>\n      <th>Industry</th>\n      <th>SuperSector</th>\n      <th>...</th>\n      <th>Average training hours per employee</th>\n      <th>Number of female board members</th>\n      <th>Number of board members</th>\n      <th>Share of women in total workforce in %</th>\n      <th>Share of women in management bodies in %</th>\n      <th>Gender pay gap in %</th>\n      <th>Rate of employees with disabilities in %</th>\n      <th>Board gender diversity (female board members / total board members) in %</th>\n      <th>Total energy consumption in mwh</th>\n      <th>Rate of resignation in %</th>\n    </tr>\n  </thead>\n  <tbody>\n    <tr>\n      <th>0</th>\n      <td>ACCOR</td>\n      <td>EUR</td>\n      <td>9.656000e+09</td>\n      <td>535.17 Ton / Million (EUR)</td>\n      <td>Stock</td>\n      <td>Ordinary Shares</td>\n      <td>Euronext Paris</td>\n      <td>FR0000120404</td>\n      <td>40, Consumer Discretionary</td>\n      <td>4050, Travel and Leisure</td>\n      <td>...</td>\n      <td>NaN</td>\n      <td>8.0</td>\n      <td>13.0</td>\n      <td>NaN</td>\n      <td>NaN</td>\n      <td>NaN</td>\n      <td>NaN</td>\n      <td>0.615</td>\n      <td>1.371200e+07</td>\n      <td>NaN</td>\n    </tr>\n    <tr>\n      <th>1</th>\n      <td>AIR LIQUIDE</td>\n      <td>EUR</td>\n      <td>9.825800e+10</td>\n      <td>NaN</td>\n      <td>Stock</td>\n      <td>Ordinary Shares</td>\n      <td>Euronext Paris</td>\n      <td>FR0000120073</td>\n      <td>55, Basic Materials</td>\n      <td>5520, Chemicals</td>\n      <td>...</td>\n      <td>20.00</td>\n      <td>5.0</td>\n      <td>14.0</td>\n      <td>0.280</td>\n      <td>0.300</td>\n      <td>NaN</td>\n      <td>0.045</td>\n      <td>0.357</td>\n      <td>NaN</td>\n      <td>0.086</td>\n    </tr>\n    <tr>\n      <th>2</th>\n      <td>AIRBUS SE</td>\n      <td>EUR</td>\n      <td>1.272570e+11</td>\n      <td>NaN</td>\n      <td>Stock</td>\n      <td>Ordinary Shares</td>\n      <td>Euronext Paris</td>\n      <td>NL0000235190</td>\n      <td>50, Industrials</td>\n      <td>5020, Industrial Goods and Services</td>\n      <td>...</td>\n      <td>15.00</td>\n      <td>4.0</td>\n      <td>12.0</td>\n      <td>0.200</td>\n      <td>NaN</td>\n      <td>NaN</td>\n      <td>NaN</td>\n      <td>0.333</td>\n      <td>3.717000e+06</td>\n      <td>NaN</td>\n    </tr>\n    <tr>\n      <th>3</th>\n      <td>ARCELORMITTAL SA</td>\n      <td>EUR</td>\n      <td>2.033100e+10</td>\n      <td>3,373.201 Ton / Million (USD)</td>\n      <td>Stock</td>\n      <td>Ordinary Shares</td>\n      <td>Euronext Amsterdam</td>\n      <td>LU1598757687</td>\n      <td>55, Basic Materials</td>\n      <td>5510, Basic Resources</td>\n      <td>...</td>\n      <td>NaN</td>\n      <td>3.0</td>\n      <td>10.0</td>\n      <td>NaN</td>\n      <td>0.157</td>\n      <td>NaN</td>\n      <td>NaN</td>\n      <td>0.300</td>\n      <td>3.866670e+08</td>\n      <td>NaN</td>\n    </tr>\n    <tr>\n      <th>4</th>\n      <td>AXA</td>\n      <td>EUR</td>\n      <td>7.714100e+10</td>\n      <td>2.54 Ton / Million (EUR)</td>\n      <td>Stock</td>\n      <td>Ordinary Shares</td>\n      <td>Euronext Paris</td>\n      <td>FR0000120628</td>\n      <td>30, Financials</td>\n      <td>3030, Insurance</td>\n      <td>...</td>\n      <td>NaN</td>\n      <td>9.0</td>\n      <td>16.0</td>\n      <td>NaN</td>\n      <td>0.353</td>\n      <td>NaN</td>\n      <td>0.007</td>\n      <td>0.563</td>\n      <td>2.236380e+05</td>\n      <td>0.100</td>\n    </tr>\n    <tr>\n      <th>...</th>\n      <td>...</td>\n      <td>...</td>\n      <td>...</td>\n      <td>...</td>\n      <td>...</td>\n      <td>...</td>\n      <td>...</td>\n      <td>...</td>\n      <td>...</td>\n      <td>...</td>\n      <td>...</td>\n      <td>...</td>\n      <td>...</td>\n      <td>...</td>\n      <td>...</td>\n      <td>...</td>\n      <td>...</td>\n      <td>...</td>\n      <td>...</td>\n      <td>...</td>\n      <td>...</td>\n    </tr>\n    <tr>\n      <th>185</th>\n      <td>STELLANTIS</td>\n      <td>EUR</td>\n      <td>7.707200e+10</td>\n      <td>6,409.5742 Ton / Million (EUR)</td>\n      <td>Stock</td>\n      <td>Ordinary Shares</td>\n      <td>Euronext Milan</td>\n      <td>NL00150001Q9</td>\n      <td>40, Consumer Discretionary</td>\n      <td>4010, Automobiles and Parts</td>\n      <td>...</td>\n      <td>NaN</td>\n      <td>3.0</td>\n      <td>11.0</td>\n      <td>NaN</td>\n      <td>NaN</td>\n      <td>NaN</td>\n      <td>NaN</td>\n      <td>0.273</td>\n      <td>1.549489e+07</td>\n      <td>NaN</td>\n    </tr>\n    <tr>\n      <th>186</th>\n      <td>STMICROELECTRONICS</td>\n      <td>EUR</td>\n      <td>3.423700e+10</td>\n      <td>27.9849 Ton / Million (USD)</td>\n      <td>Stock</td>\n      <td>Ordinary Shares</td>\n      <td>Euronext Milan</td>\n      <td>NL0000226223</td>\n      <td>10, Technology</td>\n      <td>1010, Technology</td>\n      <td>...</td>\n      <td>NaN</td>\n      <td>4.0</td>\n      <td>9.0</td>\n      <td>NaN</td>\n      <td>NaN</td>\n      <td>NaN</td>\n      <td>NaN</td>\n      <td>0.444</td>\n      <td>2.878880e+06</td>\n      <td>NaN</td>\n    </tr>\n    <tr>\n      <th>187</th>\n      <td>TELECOM ITALIA</td>\n      <td>EUR</td>\n      <td>3.357000e+09</td>\n      <td>124.89 Ton / Million (EUR)</td>\n      <td>Stock</td>\n      <td>Ordinary Shares</td>\n      <td>Euronext Milan</td>\n      <td>IT0003497168</td>\n      <td>15, Telecommunications</td>\n      <td>1510, Telecommunications</td>\n      <td>...</td>\n      <td>53.75</td>\n      <td>6.0</td>\n      <td>15.0</td>\n      <td>0.380</td>\n      <td>0.280</td>\n      <td>NaN</td>\n      <td>0.030</td>\n      <td>0.400</td>\n      <td>2.671000e+06</td>\n      <td>NaN</td>\n    </tr>\n    <tr>\n      <th>189</th>\n      <td>TERNA</td>\n      <td>EUR</td>\n      <td>1.460500e+10</td>\n      <td>132.1212 Ton / Million (EUR)</td>\n      <td>Stock</td>\n      <td>Ordinary Shares</td>\n      <td>Euronext Milan</td>\n      <td>IT0003242622</td>\n      <td>65, Utilities</td>\n      <td>6510, Utilities</td>\n      <td>...</td>\n      <td>36.00</td>\n      <td>6.0</td>\n      <td>13.0</td>\n      <td>0.161</td>\n      <td>0.237</td>\n      <td>0.19</td>\n      <td>NaN</td>\n      <td>0.461</td>\n      <td>2.578550e+05</td>\n      <td>0.018</td>\n    </tr>\n    <tr>\n      <th>191</th>\n      <td>UNIPOL</td>\n      <td>EUR</td>\n      <td>5.833000e+09</td>\n      <td>476.3635 Ton / Million (EUR)</td>\n      <td>Stock</td>\n      <td>Ordinary Shares</td>\n      <td>Euronext Milan</td>\n      <td>IT0004810054</td>\n      <td>30, Financials</td>\n      <td>3030, Insurance</td>\n      <td>...</td>\n      <td>15.72</td>\n      <td>6.0</td>\n      <td>15.0</td>\n      <td>0.543</td>\n      <td>0.162</td>\n      <td>0.09</td>\n      <td>NaN</td>\n      <td>0.400</td>\n      <td>1.474418e+05</td>\n      <td>0.027</td>\n    </tr>\n  </tbody>\n</table>\n<p>187 rows × 22 columns</p>\n</div>"
     },
     "execution_count": 111,
     "metadata": {},
     "output_type": "execute_result"
    }
   ],
   "source": [
    "# Finden der Spalten, bei denen der Prozentsatz der fehlenden Daten größer als 80% ist\n",
    "columns_to_drop = missing_data[missing_data > 80].index\n",
    "# Löschen dieser Spalten aus dem DataFrame\n",
    "data.drop(columns=columns_to_drop, inplace=True)\n",
    "data"
   ],
   "metadata": {
    "collapsed": false,
    "ExecuteTime": {
     "end_time": "2024-04-19T09:17:30.733126600Z",
     "start_time": "2024-04-19T09:17:30.540578700Z"
    }
   },
   "id": "ad2f8ca609e45271",
   "execution_count": 111
  },
  {
   "cell_type": "code",
   "outputs": [
    {
     "data": {
      "text/plain": "Index(['CDP', 'FTSE4Good', 'MSCI ESG Ratings', 'Moody's ESG Solution',\n       'Sustainalytics', 'Professional equality index'],\n      dtype='object')"
     },
     "execution_count": 112,
     "metadata": {},
     "output_type": "execute_result"
    }
   ],
   "source": [
    "columns_to_drop"
   ],
   "metadata": {
    "collapsed": false,
    "ExecuteTime": {
     "end_time": "2024-04-19T09:17:30.805785300Z",
     "start_time": "2024-04-19T09:17:30.597687200Z"
    }
   },
   "id": "709c5966799b8bac",
   "execution_count": 112
  },
  {
   "cell_type": "code",
   "outputs": [],
   "source": [
    "#Save DataFrame to a CSV file with semicolon as the delimiter with the required _stage2.csv ending form project\n",
    "data.to_csv('C:/Users/chris/switchdrive/SyncVM/CIP/hslu-cip/data/clean_data/scraped_shares_data2_stage3.csv', sep=';', index=False)"
   ],
   "metadata": {
    "collapsed": false,
    "ExecuteTime": {
     "end_time": "2024-04-19T09:17:30.944814700Z",
     "start_time": "2024-04-19T09:17:30.801012700Z"
    }
   },
   "id": "c1d110da7bcfadc1",
   "execution_count": 113
  },
  {
   "cell_type": "code",
   "outputs": [],
   "source": [],
   "metadata": {
    "collapsed": false,
    "ExecuteTime": {
     "end_time": "2024-04-19T09:17:30.999167700Z",
     "start_time": "2024-04-19T09:17:30.949396Z"
    }
   },
   "id": "7f81f0f46832218f",
   "execution_count": 113
  }
 ],
 "metadata": {
  "kernelspec": {
   "display_name": "Python 3",
   "language": "python",
   "name": "python3"
  },
  "language_info": {
   "codemirror_mode": {
    "name": "ipython",
    "version": 2
   },
   "file_extension": ".py",
   "mimetype": "text/x-python",
   "name": "python",
   "nbconvert_exporter": "python",
   "pygments_lexer": "ipython2",
   "version": "2.7.6"
  }
 },
 "nbformat": 4,
 "nbformat_minor": 5
}
